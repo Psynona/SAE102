{
 "cells": [
  {
   "cell_type": "markdown",
   "id": "52e6010d",
   "metadata": {},
   "source": [
    "# Question 2\n",
    "Théoriquement, la fonction dico_reseau() est en O(n²) car elle parcourt 2 fois la liste qui est en paramètre.\n",
    "La fonction create_network() est en O(n) car la fonction parcourt 1 fois la liste."
   ]
  },
  {
   "cell_type": "code",
   "execution_count": 6,
   "id": "78f25991",
   "metadata": {},
   "outputs": [
    {
     "name": "stdout",
     "output_type": "stream",
     "text": [
      "Pour la fonction dico_reseau :  0.04601478576660156\n",
      "Pour la fonction create_network :  0.04863739013671875\n"
     ]
    }
   ],
   "source": [
    "from community_detection import *\n",
    "from time import *\n",
    "\n",
    "liste_amis = [\"Anna\",\"Eric\",\"Marc\",\"Axel\",\"Eric\",\"Marc\",\"Anna\",\"Marc\"]\n",
    "tic = time()\n",
    "dico_reseau(liste_amis)\n",
    "tac = time()\n",
    "print(\"Pour la fonction dico_reseau : \", (tac - tic)*1000)\n",
    "\n",
    "tic = time()\n",
    "create_network(liste_amis)\n",
    "tac = time()\n",
    "print(\"Pour la fonction create_network : \", (tac-tic)*1000)"
   ]
  },
  {
   "cell_type": "markdown",
   "id": "8fcd6ef3",
   "metadata": {},
   "source": [
    "# Question 11\n",
    "\n",
    "La fonction find_community_by_decreasing_popularity() est en O(n²) car la fonction appelle la fonction order_by_decreasing_popularity() qui est en O(n²) et la fonction find_community() qui est linéaire.\n",
    "La fonction find_community_from_person() est en O(n²) car la fonction utilise find_community_by_decreasing_popularity() et parcourt une liste en paramètre."
   ]
  },
  {
   "cell_type": "code",
   "execution_count": 12,
   "id": "3f5c8fdc",
   "metadata": {},
   "outputs": [
    {
     "name": "stdout",
     "output_type": "stream",
     "text": [
      "Pour la fonction find_community_by_decreasing_popularity :  0.049114227294921875\n",
      "Dans le meilleur cas de la fonction find_community_from_person :  0.04506111145019531\n",
      "Dans le pire cas de la fonction find_community_from_person :  0.061511993408203125\n"
     ]
    }
   ],
   "source": [
    "dico = {\n",
    "  \"Alice\" : [\"Bob\", \"Dominique\"],\n",
    "  \"Bob\" : [\"Alice\", \"Dominique\", \"Charlie\"],\n",
    "  \"Charlie\" : [\"Bob\"],\n",
    "  \"Dominique\" : [\"Bob\", \"Alice\"]\n",
    "}\n",
    "\n",
    "\n",
    "\n",
    "tic = time()\n",
    "find_community_by_decreasing_popularity(dico)\n",
    "tac = time()\n",
    "print(\"Pour la fonction find_community_by_decreasing_popularity : \", (tac-tic)*1000)\n",
    "\n",
    "\n",
    "tic = time()\n",
    "find_community_from_person(dico, \"Charlie\")\n",
    "tac = time()\n",
    "print(\"Dans le meilleur cas de la fonction find_community_from_person : \", (tac-tic)*1000)\n",
    "\n",
    "tic = time()\n",
    "find_community_from_person(dico, \"Bob\")\n",
    "tac = time()\n",
    "print(\"Dans le pire cas de la fonction find_community_from_person : \", (tac - tic)*1000)"
   ]
  }
 ],
 "metadata": {
  "kernelspec": {
   "display_name": "Python 3 (ipykernel)",
   "language": "python",
   "name": "python3"
  },
  "language_info": {
   "codemirror_mode": {
    "name": "ipython",
    "version": 3
   },
   "file_extension": ".py",
   "mimetype": "text/x-python",
   "name": "python",
   "nbconvert_exporter": "python",
   "pygments_lexer": "ipython3",
   "version": "3.9.7"
  }
 },
 "nbformat": 4,
 "nbformat_minor": 5
}
